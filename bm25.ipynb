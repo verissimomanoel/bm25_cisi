{
 "nbformat": 4,
 "nbformat_minor": 0,
 "metadata": {
  "colab": {
   "provenance": []
  },
  "kernelspec": {
   "name": "python3",
   "display_name": "Python 3"
  },
  "language_info": {
   "name": "python"
  },
  "widgets": {
   "application/vnd.jupyter.widget-state+json": {
    "400398e74c564414829fe5c7a4c58c80": {
     "model_module": "@jupyter-widgets/controls",
     "model_name": "HBoxModel",
     "model_module_version": "1.5.0",
     "state": {
      "_dom_classes": [],
      "_model_module": "@jupyter-widgets/controls",
      "_model_module_version": "1.5.0",
      "_model_name": "HBoxModel",
      "_view_count": null,
      "_view_module": "@jupyter-widgets/controls",
      "_view_module_version": "1.5.0",
      "_view_name": "HBoxView",
      "box_style": "",
      "children": [
       "IPY_MODEL_a96ab55027d04229b97de4ca9273b5dc",
       "IPY_MODEL_56d7f4b14ace4fa785b4de488b6751ea",
       "IPY_MODEL_a4ad6e8bc0984a9e8ba8e2fb54178eb7"
      ],
      "layout": "IPY_MODEL_c55ea1d629f54519921385ad6ed59708"
     }
    },
    "a96ab55027d04229b97de4ca9273b5dc": {
     "model_module": "@jupyter-widgets/controls",
     "model_name": "HTMLModel",
     "model_module_version": "1.5.0",
     "state": {
      "_dom_classes": [],
      "_model_module": "@jupyter-widgets/controls",
      "_model_module_version": "1.5.0",
      "_model_name": "HTMLModel",
      "_view_count": null,
      "_view_module": "@jupyter-widgets/controls",
      "_view_module_version": "1.5.0",
      "_view_name": "HTMLView",
      "description": "",
      "description_tooltip": null,
      "layout": "IPY_MODEL_572ba4bc33744285b858a6668f384db0",
      "placeholder": "​",
      "style": "IPY_MODEL_9ef1b9493544484aad5f6153f09b2c80",
      "value": "100%"
     }
    },
    "56d7f4b14ace4fa785b4de488b6751ea": {
     "model_module": "@jupyter-widgets/controls",
     "model_name": "FloatProgressModel",
     "model_module_version": "1.5.0",
     "state": {
      "_dom_classes": [],
      "_model_module": "@jupyter-widgets/controls",
      "_model_module_version": "1.5.0",
      "_model_name": "FloatProgressModel",
      "_view_count": null,
      "_view_module": "@jupyter-widgets/controls",
      "_view_module_version": "1.5.0",
      "_view_name": "ProgressView",
      "bar_style": "success",
      "description": "",
      "description_tooltip": null,
      "layout": "IPY_MODEL_9258d3f68c67406e8de8440b597f9e1d",
      "max": 112,
      "min": 0,
      "orientation": "horizontal",
      "style": "IPY_MODEL_dc3f7f5962c4487abb1ad9d4c4fd8fc9",
      "value": 112
     }
    },
    "a4ad6e8bc0984a9e8ba8e2fb54178eb7": {
     "model_module": "@jupyter-widgets/controls",
     "model_name": "HTMLModel",
     "model_module_version": "1.5.0",
     "state": {
      "_dom_classes": [],
      "_model_module": "@jupyter-widgets/controls",
      "_model_module_version": "1.5.0",
      "_model_name": "HTMLModel",
      "_view_count": null,
      "_view_module": "@jupyter-widgets/controls",
      "_view_module_version": "1.5.0",
      "_view_name": "HTMLView",
      "description": "",
      "description_tooltip": null,
      "layout": "IPY_MODEL_f975ca121e2d47d98346f0d97b20069f",
      "placeholder": "​",
      "style": "IPY_MODEL_37abd0da09884ec4a767cc9d5d46b013",
      "value": " 112/112 [00:44&lt;00:00,  3.87it/s]"
     }
    },
    "c55ea1d629f54519921385ad6ed59708": {
     "model_module": "@jupyter-widgets/base",
     "model_name": "LayoutModel",
     "model_module_version": "1.2.0",
     "state": {
      "_model_module": "@jupyter-widgets/base",
      "_model_module_version": "1.2.0",
      "_model_name": "LayoutModel",
      "_view_count": null,
      "_view_module": "@jupyter-widgets/base",
      "_view_module_version": "1.2.0",
      "_view_name": "LayoutView",
      "align_content": null,
      "align_items": null,
      "align_self": null,
      "border": null,
      "bottom": null,
      "display": null,
      "flex": null,
      "flex_flow": null,
      "grid_area": null,
      "grid_auto_columns": null,
      "grid_auto_flow": null,
      "grid_auto_rows": null,
      "grid_column": null,
      "grid_gap": null,
      "grid_row": null,
      "grid_template_areas": null,
      "grid_template_columns": null,
      "grid_template_rows": null,
      "height": null,
      "justify_content": null,
      "justify_items": null,
      "left": null,
      "margin": null,
      "max_height": null,
      "max_width": null,
      "min_height": null,
      "min_width": null,
      "object_fit": null,
      "object_position": null,
      "order": null,
      "overflow": null,
      "overflow_x": null,
      "overflow_y": null,
      "padding": null,
      "right": null,
      "top": null,
      "visibility": null,
      "width": null
     }
    },
    "572ba4bc33744285b858a6668f384db0": {
     "model_module": "@jupyter-widgets/base",
     "model_name": "LayoutModel",
     "model_module_version": "1.2.0",
     "state": {
      "_model_module": "@jupyter-widgets/base",
      "_model_module_version": "1.2.0",
      "_model_name": "LayoutModel",
      "_view_count": null,
      "_view_module": "@jupyter-widgets/base",
      "_view_module_version": "1.2.0",
      "_view_name": "LayoutView",
      "align_content": null,
      "align_items": null,
      "align_self": null,
      "border": null,
      "bottom": null,
      "display": null,
      "flex": null,
      "flex_flow": null,
      "grid_area": null,
      "grid_auto_columns": null,
      "grid_auto_flow": null,
      "grid_auto_rows": null,
      "grid_column": null,
      "grid_gap": null,
      "grid_row": null,
      "grid_template_areas": null,
      "grid_template_columns": null,
      "grid_template_rows": null,
      "height": null,
      "justify_content": null,
      "justify_items": null,
      "left": null,
      "margin": null,
      "max_height": null,
      "max_width": null,
      "min_height": null,
      "min_width": null,
      "object_fit": null,
      "object_position": null,
      "order": null,
      "overflow": null,
      "overflow_x": null,
      "overflow_y": null,
      "padding": null,
      "right": null,
      "top": null,
      "visibility": null,
      "width": null
     }
    },
    "9ef1b9493544484aad5f6153f09b2c80": {
     "model_module": "@jupyter-widgets/controls",
     "model_name": "DescriptionStyleModel",
     "model_module_version": "1.5.0",
     "state": {
      "_model_module": "@jupyter-widgets/controls",
      "_model_module_version": "1.5.0",
      "_model_name": "DescriptionStyleModel",
      "_view_count": null,
      "_view_module": "@jupyter-widgets/base",
      "_view_module_version": "1.2.0",
      "_view_name": "StyleView",
      "description_width": ""
     }
    },
    "9258d3f68c67406e8de8440b597f9e1d": {
     "model_module": "@jupyter-widgets/base",
     "model_name": "LayoutModel",
     "model_module_version": "1.2.0",
     "state": {
      "_model_module": "@jupyter-widgets/base",
      "_model_module_version": "1.2.0",
      "_model_name": "LayoutModel",
      "_view_count": null,
      "_view_module": "@jupyter-widgets/base",
      "_view_module_version": "1.2.0",
      "_view_name": "LayoutView",
      "align_content": null,
      "align_items": null,
      "align_self": null,
      "border": null,
      "bottom": null,
      "display": null,
      "flex": null,
      "flex_flow": null,
      "grid_area": null,
      "grid_auto_columns": null,
      "grid_auto_flow": null,
      "grid_auto_rows": null,
      "grid_column": null,
      "grid_gap": null,
      "grid_row": null,
      "grid_template_areas": null,
      "grid_template_columns": null,
      "grid_template_rows": null,
      "height": null,
      "justify_content": null,
      "justify_items": null,
      "left": null,
      "margin": null,
      "max_height": null,
      "max_width": null,
      "min_height": null,
      "min_width": null,
      "object_fit": null,
      "object_position": null,
      "order": null,
      "overflow": null,
      "overflow_x": null,
      "overflow_y": null,
      "padding": null,
      "right": null,
      "top": null,
      "visibility": null,
      "width": null
     }
    },
    "dc3f7f5962c4487abb1ad9d4c4fd8fc9": {
     "model_module": "@jupyter-widgets/controls",
     "model_name": "ProgressStyleModel",
     "model_module_version": "1.5.0",
     "state": {
      "_model_module": "@jupyter-widgets/controls",
      "_model_module_version": "1.5.0",
      "_model_name": "ProgressStyleModel",
      "_view_count": null,
      "_view_module": "@jupyter-widgets/base",
      "_view_module_version": "1.2.0",
      "_view_name": "StyleView",
      "bar_color": null,
      "description_width": ""
     }
    },
    "f975ca121e2d47d98346f0d97b20069f": {
     "model_module": "@jupyter-widgets/base",
     "model_name": "LayoutModel",
     "model_module_version": "1.2.0",
     "state": {
      "_model_module": "@jupyter-widgets/base",
      "_model_module_version": "1.2.0",
      "_model_name": "LayoutModel",
      "_view_count": null,
      "_view_module": "@jupyter-widgets/base",
      "_view_module_version": "1.2.0",
      "_view_name": "LayoutView",
      "align_content": null,
      "align_items": null,
      "align_self": null,
      "border": null,
      "bottom": null,
      "display": null,
      "flex": null,
      "flex_flow": null,
      "grid_area": null,
      "grid_auto_columns": null,
      "grid_auto_flow": null,
      "grid_auto_rows": null,
      "grid_column": null,
      "grid_gap": null,
      "grid_row": null,
      "grid_template_areas": null,
      "grid_template_columns": null,
      "grid_template_rows": null,
      "height": null,
      "justify_content": null,
      "justify_items": null,
      "left": null,
      "margin": null,
      "max_height": null,
      "max_width": null,
      "min_height": null,
      "min_width": null,
      "object_fit": null,
      "object_position": null,
      "order": null,
      "overflow": null,
      "overflow_x": null,
      "overflow_y": null,
      "padding": null,
      "right": null,
      "top": null,
      "visibility": null,
      "width": null
     }
    },
    "37abd0da09884ec4a767cc9d5d46b013": {
     "model_module": "@jupyter-widgets/controls",
     "model_name": "DescriptionStyleModel",
     "model_module_version": "1.5.0",
     "state": {
      "_model_module": "@jupyter-widgets/controls",
      "_model_module_version": "1.5.0",
      "_model_name": "DescriptionStyleModel",
      "_view_count": null,
      "_view_module": "@jupyter-widgets/base",
      "_view_module_version": "1.2.0",
      "_view_name": "StyleView",
      "description_width": ""
     }
    }
   }
  }
 },
 "cells": [
  {
   "cell_type": "code",
   "source": [
    "### Used only to run on Google Colab\n",
    "from google.colab import drive\n",
    "drive.mount('/content/gdrive')\n",
    "\n",
    "# Change de path to your drive\n",
    "base_path = \"gdrive/MyDrive/Colab_Notebooks/SelecaoUnicamp/data/\""
   ],
   "metadata": {
    "colab": {
     "base_uri": "https://localhost:8080/"
    },
    "id": "0e5W6QHxONPA",
    "outputId": "2f5f8375-8c90-4b3f-c22a-01c64cc1ad30"
   },
   "execution_count": 23,
   "outputs": [
    {
     "output_type": "stream",
     "name": "stdout",
     "text": [
      "Drive already mounted at /content/gdrive; to attempt to forcibly remount, call drive.mount(\"/content/gdrive\", force_remount=True).\n"
     ]
    }
   ]
  },
  {
   "cell_type": "code",
   "source": [
    "# !pip install rank-bm25"
   ],
   "metadata": {
    "colab": {
     "base_uri": "https://localhost:8080/"
    },
    "id": "2t3nZU80aZ5Z",
    "outputId": "11e7dd7b-65f9-4b2c-9210-37d51766f3dc"
   },
   "execution_count": 3,
   "outputs": [
    {
     "output_type": "stream",
     "name": "stdout",
     "text": [
      "Looking in indexes: https://pypi.org/simple, https://us-python.pkg.dev/colab-wheels/public/simple/\n",
      "Collecting rank-bm25\n",
      "  Downloading rank_bm25-0.2.2-py3-none-any.whl (8.6 kB)\n",
      "Requirement already satisfied: numpy in /usr/local/lib/python3.8/dist-packages (from rank-bm25) (1.22.4)\n",
      "Installing collected packages: rank-bm25\n",
      "Successfully installed rank-bm25-0.2.2\n"
     ]
    }
   ]
  },
  {
   "cell_type": "code",
   "execution_count": 27,
   "metadata": {
    "id": "hq5bLZPZND-8"
   },
   "outputs": [],
   "source": [
    "import math\n",
    "from collections import defaultdict\n",
    "from tqdm.notebook import tqdm\n",
    "import nltk\n",
    "from rank_bm25 import BM25Okapi\n",
    "import numpy as np"
   ]
  },
  {
   "cell_type": "code",
   "source": [
    "nltk.download('stopwords')\n",
    "nltk.download('punkt')"
   ],
   "metadata": {
    "colab": {
     "base_uri": "https://localhost:8080/"
    },
    "id": "giByaAHJamNY",
    "outputId": "693cbb58-4376-4aec-9859-1f078950b520"
   },
   "execution_count": 25,
   "outputs": [
    {
     "output_type": "stream",
     "name": "stderr",
     "text": [
      "[nltk_data] Downloading package stopwords to /root/nltk_data...\n",
      "[nltk_data]   Package stopwords is already up-to-date!\n",
      "[nltk_data] Downloading package punkt to /root/nltk_data...\n",
      "[nltk_data]   Unzipping tokenizers/punkt.zip.\n"
     ]
    },
    {
     "output_type": "execute_result",
     "data": {
      "text/plain": [
       "True"
      ]
     },
     "metadata": {},
     "execution_count": 25
    }
   ]
  },
  {
   "cell_type": "code",
   "source": [
    "stemmer = nltk.stem.PorterStemmer()\n",
    "stop_words = nltk.corpus.stopwords.words('english')"
   ],
   "metadata": {
    "id": "hveoYVX4aN-7"
   },
   "execution_count": 22,
   "outputs": []
  },
  {
   "cell_type": "code",
   "source": [
    "def preprocess_string(txt, remove_stop=True, do_stem=True, to_lower=True):\n",
    "    \"\"\"\n",
    "    Return a preprocessed tokenized text.\n",
    "\n",
    "    Args:\n",
    "        txt (str): original text to process\n",
    "        remove_stop (boolean): to remove or not stop words (common words)\n",
    "        do_stem (boolean): to do or not stemming (suffixes and prefixes removal)\n",
    "        to_lower (boolean): remove or not capital letters.\n",
    "\n",
    "    Returns:\n",
    "        Return a preprocessed tokenized text.\n",
    "    \"\"\"\n",
    "    if to_lower:\n",
    "        txt = txt.lower()\n",
    "    tokens = nltk.tokenize.word_tokenize(txt)\n",
    "\n",
    "    if remove_stop:\n",
    "        tokens = [tk for tk in tokens if tk not in stop_words]\n",
    "    if do_stem:\n",
    "        tokens = [stemmer.stem(tk) for tk in tokens]\n",
    "    return tokens"
   ],
   "metadata": {
    "id": "qqAfiCgJQVfP"
   },
   "execution_count": 10,
   "outputs": []
  },
  {
   "cell_type": "code",
   "source": [
    "def create_index(documents):\n",
    "    \"\"\"\n",
    "    Create the index of documents\n",
    "    Args:\n",
    "        documents: List of documents.\n",
    "\n",
    "    Returns:\n",
    "        indexes (defaultdict):\n",
    "            Dictionary with the indexes of documents\n",
    "    \"\"\"\n",
    "    indexes = defaultdict(list)\n",
    "    for doc_id, document in documents.items():\n",
    "        for term in document:\n",
    "            indexes[term].append(doc_id)\n",
    "    return indexes"
   ],
   "metadata": {
    "id": "ZL9gdUXZShSX"
   },
   "execution_count": 12,
   "outputs": []
  },
  {
   "cell_type": "code",
   "source": [
    "def compute_idf_weights(indexes, num_docs):\n",
    "    \"\"\"\n",
    "    Compute the IDF weights for each term\n",
    "    Args:\n",
    "        indexes: List of indexes\n",
    "        num_docs: Number of documents\n",
    "\n",
    "    Returns:\n",
    "        idf_weights (dict):\n",
    "            List of IDF weights\n",
    "    \"\"\"\n",
    "    idf_weights = {}\n",
    "    for term, doc_ids in indexes.items():\n",
    "        idf_weights[term] = math.log(num_docs / len(doc_ids))\n",
    "    return idf_weights"
   ],
   "metadata": {
    "id": "O5LjPcCmR9Rm"
   },
   "execution_count": 13,
   "outputs": []
  },
  {
   "cell_type": "code",
   "source": [
    "def compute_bm25_score(queries, documents, indexes, idf_weights, k1=1.5, b=0.75):\n",
    "    \"\"\"\n",
    "    Compute the BM25 score for a query and a document\n",
    "    Args:\n",
    "        queries: List of queries\n",
    "        documents: List of documents\n",
    "        indexes: List of indexes\n",
    "        idf_weights: List of IDF weights\n",
    "        k1: Control the impact of term frequency on the score.\n",
    "        b: Control the impact of document length on the score\n",
    "\n",
    "    Returns:\n",
    "\n",
    "    \"\"\"\n",
    "    score = 0\n",
    "    doc_len = len(documents)\n",
    "    avg_doc_len = sum(map(len, indexes.values())) / len(indexes)\n",
    "    for term in queries:\n",
    "        if term not in indexes:\n",
    "            continue\n",
    "        tf = documents.count(term)\n",
    "        idf = idf_weights[term]\n",
    "        numerator = tf * (k1 + 1)\n",
    "        denominator = tf + k1 * (1 - b + b * (doc_len / avg_doc_len))\n",
    "        score += idf * (numerator / denominator)\n",
    "    return score"
   ],
   "metadata": {
    "id": "jtYCfx-yReqW"
   },
   "execution_count": 14,
   "outputs": []
  },
  {
   "cell_type": "code",
   "source": [
    "def rank_documents(queries, documents, indexes, idf_weights):\n",
    "    \"\"\"\n",
    "    Rank the documents for a query using BM25\n",
    "    Args:\n",
    "        queries: List of queries\n",
    "        documents: List of documents\n",
    "        indexes: List of indexes\n",
    "        idf_weights: List of IDF weights\n",
    "\n",
    "    Returns:\n",
    "        scores (dict):\n",
    "            Dictionary with the scores of documents\n",
    "    \"\"\"\n",
    "    scores = {}\n",
    "    for doc_id, document in documents.items():\n",
    "        score = compute_bm25_score(queries, document, indexes, idf_weights)\n",
    "        scores[doc_id] = score\n",
    "    return sorted(scores.items(), key=lambda x: x[1], reverse=True)"
   ],
   "metadata": {
    "id": "tTIvaAUERhD-"
   },
   "execution_count": 15,
   "outputs": []
  },
  {
   "cell_type": "code",
   "source": [
    "def prepare_data():\n",
    "    \"\"\"\n",
    "    Load the documents, queries and relevance from the CISI collection\n",
    "\n",
    "    Returns:\n",
    "\n",
    "    \"\"\"\n",
    "    documents: dict[int, list] = {}\n",
    "    doc_id = \"\"\n",
    "    doc_text = \"\"\n",
    "    lines = read_file(\"CISI.ALL\")\n",
    "\n",
    "    for line in lines:\n",
    "        if line.startswith(\".I\"):\n",
    "            doc_id = int(line.split(\" \")[1].strip()) - 1\n",
    "        elif line.startswith(\".X\"):\n",
    "            documents[doc_id] = preprocess_string(doc_text)\n",
    "\n",
    "            doc_id = \"\"\n",
    "            doc_text = \"\"\n",
    "        else:\n",
    "            doc_text += line.strip()[3:] + \" \"\n",
    "\n",
    "    lines = read_file(\"CISI.QRY\")\n",
    "\n",
    "    queries: dict[int, list] = {}\n",
    "    qry_id = \"\"\n",
    "    for line in lines:\n",
    "        if line.startswith(\".I\"):\n",
    "            qry_id = int(line.split(\" \")[1].strip()) - 1\n",
    "        elif line.startswith(\".W\"):\n",
    "            queries[qry_id] = preprocess_string(line.strip()[3:])\n",
    "            qry_id = \"\"\n",
    "\n",
    "    relevance: dict[int, list] = {}\n",
    "    with open(f'{base_path}CISI.REL') as f:\n",
    "        for line in f.readlines():\n",
    "            qry_id = int(line.lstrip(\" \").strip(\"\\n\").split(\"\\t\")[0].split(\" \")[0]) - 1\n",
    "            doc_id = int(line.lstrip(\" \").strip(\"\\n\").split(\"\\t\")[0].split(\" \")[-1]) - 1\n",
    "            if qry_id in relevance:\n",
    "                relevance[qry_id].append(doc_id)\n",
    "            else:\n",
    "                relevance[qry_id] = []\n",
    "                relevance[qry_id].append(doc_id)\n",
    "\n",
    "    return documents, queries, relevance"
   ],
   "metadata": {
    "id": "BohcVZIjWWjG"
   },
   "execution_count": 16,
   "outputs": []
  },
  {
   "cell_type": "code",
   "source": [
    "def read_file(file_name):\n",
    "    \"\"\"\n",
    "    Read file and return the lines of file\n",
    "    Args:\n",
    "        file_name: Name of file\n",
    "\n",
    "    Returns:\n",
    "        lines (str):\n",
    "            Lines of file\n",
    "    \"\"\"\n",
    "    with open(base_path + file_name) as f:\n",
    "        lines = \"\"\n",
    "        for line in f.readlines():\n",
    "            lines += \"\\n\" + line.strip() if line.startswith(\".\") else \" \" + line.strip()\n",
    "        lines = lines.lstrip(\"\\n\").split(\"\\n\")\n",
    "    return lines"
   ],
   "metadata": {
    "id": "Q1zv7Zsxa7VK"
   },
   "execution_count": 17,
   "outputs": []
  },
  {
   "cell_type": "code",
   "source": [
    "def evaluate_system(documents, queries, indexes, idf_weights, relevance):\n",
    "    \"\"\"\n",
    "    Evaluate the system using the relevance judgments\n",
    "    Args:\n",
    "        documents: List of documents\n",
    "        queries: List of queries\n",
    "        indexes: List of indexes\n",
    "        idf_weights: List of IDF weights\n",
    "        relevance: List of relevances\n",
    "\n",
    "    Returns:\n",
    "\n",
    "    \"\"\"\n",
    "    num_queries = 0\n",
    "    total_precision = 0\n",
    "    total_recall = 0\n",
    "    for query_id, query in tqdm(queries.items()):\n",
    "        if query_id in relevance.keys():\n",
    "            num_queries += 1\n",
    "            top_docs = rank_documents(query, documents, indexes, idf_weights)[:10]\n",
    "            relevant_docs = relevance[query_id]\n",
    "            num_retrieved = len(top_docs)\n",
    "            num_relevant = len(relevant_docs)\n",
    "            num_common = len(set(relevant_docs).intersection(set(d[0] for d in top_docs)))\n",
    "            precision = num_common / num_retrieved if num_retrieved > 0 else 0\n",
    "            recall = num_common / num_relevant if num_relevant > 0 else 0\n",
    "            total_precision += precision\n",
    "            total_recall += recall\n",
    "\n",
    "    mean_precision = total_precision / num_queries\n",
    "    mean_recall = total_recall / num_queries\n",
    "    f1_score = 2 * mean_precision * mean_recall / (mean_precision + mean_recall) if (mean_precision + mean_recall) > 0 else 0\n",
    "\n",
    "    return mean_precision, mean_recall, f1_score"
   ],
   "metadata": {
    "id": "IUNAFtOsa9dN"
   },
   "execution_count": 18,
   "outputs": []
  },
  {
   "cell_type": "code",
   "source": [
    "def mean_reciprocal_rank(bool_results, k=10):\n",
    "    \"\"\"\n",
    "    Score is reciprocal of the rank of the first relevant item\n",
    "    First element is 'rank 1'.  Relevance is binary (nonzero is relevant).\n",
    "    Example from http://en.wikipedia.org/wiki/Mean_reciprocal_rank\n",
    "\n",
    "    Args:\n",
    "        rs: Iterator of relevance scores (list or numpy) in rank order\n",
    "            (first element is the first item)\n",
    "    Returns:\n",
    "        Mean reciprocal rank\n",
    "    \"\"\"\n",
    "    bool_results = (np.atleast_1d(r[:k]).nonzero()[0] for r in bool_results)\n",
    "    return np.mean([1. / (r[0] + 1) if r.size else 0. for r in bool_results])"
   ],
   "metadata": {
    "id": "JbWFKGona_zr"
   },
   "execution_count": 19,
   "outputs": []
  },
  {
   "cell_type": "code",
   "source": [
    "def results_from_query(qry_id, bm25):\n",
    "    \"\"\"\n",
    "    Calculate the results for each query.\n",
    "    Args:\n",
    "        qry_id: Query id\n",
    "        bm25: Instance of object to bm25\n",
    "\n",
    "    Returns:\n",
    "        Relevance results\n",
    "    \"\"\"\n",
    "    query = queries[qry_id]\n",
    "    rel_docs = []\n",
    "    if qry_id in relevance:\n",
    "        rel_docs = relevance[qry_id]\n",
    "    scores = bm25.get_scores(query)\n",
    "    most_relevant_documents = np.argsort(-scores)\n",
    "    masked_relevance_results = np.zeros(most_relevant_documents.shape)\n",
    "    masked_relevance_results[rel_docs] = 1\n",
    "    sorted_masked_relevance_results = np.take(masked_relevance_results, most_relevant_documents)\n",
    "    return sorted_masked_relevance_results"
   ],
   "metadata": {
    "id": "PPZ-jpGybBVe"
   },
   "execution_count": 20,
   "outputs": []
  },
  {
   "cell_type": "code",
   "source": [
    "documents, queries, relevance = prepare_data()\n",
    "indexes = create_index(documents)\n",
    "idf_weights = compute_idf_weights(indexes, len(documents))\n",
    "\n",
    "mean_precision, mean_recall, f1_score = evaluate_system(documents, queries, indexes, idf_weights, relevance)\n",
    "print(mean_precision)\n",
    "print(mean_recall)\n",
    "print(f1_score)"
   ],
   "metadata": {
    "colab": {
     "base_uri": "https://localhost:8080/",
     "height": 148,
     "referenced_widgets": [
      "400398e74c564414829fe5c7a4c58c80",
      "a96ab55027d04229b97de4ca9273b5dc",
      "56d7f4b14ace4fa785b4de488b6751ea",
      "a4ad6e8bc0984a9e8ba8e2fb54178eb7",
      "c55ea1d629f54519921385ad6ed59708",
      "572ba4bc33744285b858a6668f384db0",
      "9ef1b9493544484aad5f6153f09b2c80",
      "9258d3f68c67406e8de8440b597f9e1d",
      "dc3f7f5962c4487abb1ad9d4c4fd8fc9",
      "f975ca121e2d47d98346f0d97b20069f",
      "37abd0da09884ec4a767cc9d5d46b013"
     ]
    },
    "id": "Bh8S0AwEbC1r",
    "outputId": "eb84791e-5a80-4364-cef3-2f54469398ee"
   },
   "execution_count": 28,
   "outputs": [
    {
     "output_type": "display_data",
     "data": {
      "text/plain": [
       "  0%|          | 0/112 [00:00<?, ?it/s]"
      ],
      "application/vnd.jupyter.widget-view+json": {
       "version_major": 2,
       "version_minor": 0,
       "model_id": "400398e74c564414829fe5c7a4c58c80"
      }
     },
     "metadata": {}
    },
    {
     "output_type": "stream",
     "name": "stdout",
     "text": [
      "\n",
      "***************\n",
      "\n",
      "0.2276315789473683\n",
      "0.0929330429055127\n",
      "0.13198271955708177\n"
     ]
    }
   ]
  },
  {
   "cell_type": "code",
   "source": [
    "bm25 = BM25Okapi(documents.values())\n",
    "results = [results_from_query(qry_id, bm25) for qry_id in list(queries.keys())]\n",
    "print('MRR@10 %.4f' % mean_reciprocal_rank(results))"
   ],
   "metadata": {
    "colab": {
     "base_uri": "https://localhost:8080/"
    },
    "id": "xisUw1r7bFvH",
    "outputId": "64ad7049-a8d8-48f9-dcb9-467fe2f379b5"
   },
   "execution_count": 29,
   "outputs": [
    {
     "output_type": "stream",
     "name": "stdout",
     "text": [
      "MRR@10 0.4187\n"
     ]
    }
   ]
  },
  {
   "cell_type": "code",
   "source": [],
   "metadata": {
    "id": "mQdtkSR_cN8C"
   },
   "execution_count": null,
   "outputs": []
  }
 ]
}
